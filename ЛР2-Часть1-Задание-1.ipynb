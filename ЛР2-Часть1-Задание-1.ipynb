{
 "cells": [
  {
   "cell_type": "code",
   "execution_count": 68,
   "metadata": {
    "scrolled": false
   },
   "outputs": [
    {
     "data": {
      "text/plain": [
       "['\"\"', '\"sex\"', '\"weight\"', '\"height\"', '\"repwt\"', '\"repht\"']"
      ]
     },
     "execution_count": 68,
     "metadata": {},
     "output_type": "execute_result"
    }
   ],
   "source": [
    "import csv\n",
    "\n",
    "original_data = []\n",
    "with open('/home/kevin/weight-height.csv', newline='') as csvfile:\n",
    "    spamreader = csv.reader(csvfile, delimiter=' ', quotechar='|')\n",
    "    for row in spamreader:\n",
    "            #print(', '.join(row))\n",
    "            original_data.append(row[0].split(\",\"))\n",
    "#print(original_data)\n",
    "original_data.pop(0)"
   ]
  },
  {
   "cell_type": "code",
   "execution_count": 182,
   "metadata": {},
   "outputs": [],
   "source": [
    "def Clear_data(data) : #вес(кг)/рост(м)^2 в районе 17-40 считается реалистичным\n",
    "    delete_index_list = []\n",
    "    for row in data :\n",
    "        #row[0] = int(row[0].replace('\"',\"\"))\n",
    "        for i in [2,3,4,5] :\n",
    "            if row[i] != \"NA\" :\n",
    "                row[i] = int(row[i])\n",
    "        #print(row[0])\n",
    "        if ((10000 * row[2])/(row[3]*row[3]) < 17) or ((10000 * row[2])/(row[3]*row[3]) > 35) :\n",
    "            delete_index_list.append(row[0] - 1)\n",
    "    delete_index_list.reverse()\n",
    "    for i in delete_index_list : \n",
    "        #print((10000 * data[i][2])/(data[i][3]*data[i][3]))\n",
    "        #print(data.pop(i))\n",
    "        data.pop(i)\n",
    "    return data\n",
    "\n",
    "cleaned_data = Clear_data(original_data)\n"
   ]
  },
  {
   "cell_type": "code",
   "execution_count": 183,
   "metadata": {},
   "outputs": [],
   "source": [
    "def Sort_data(data) :\n",
    "    train_data = []\n",
    "    test_data  = []\n",
    "    was_the_last_M_sent_to_train = False\n",
    "    was_the_last_F_sent_to_train = False\n",
    "    for row in data :\n",
    "        #print(row)\n",
    "        #print(row[1])\n",
    "        if row[1] == '\"M\"' :\n",
    "            if was_the_last_M_sent_to_train == False :\n",
    "                train_data.append(row)\n",
    "                was_the_last_M_sent_to_train = True\n",
    "            else :\n",
    "                test_data.append(row)\n",
    "                was_the_last_M_sent_to_train = False\n",
    "        elif row[1] == '\"F\"' :\n",
    "            if was_the_last_F_sent_to_train == False :\n",
    "                train_data.append(row)\n",
    "                was_the_last_F_sent_to_train = True\n",
    "            else :\n",
    "                test_data.append(row)\n",
    "                was_the_last_F_sent_to_train = False        \n",
    "        else : \n",
    "            print(\"???\")\n",
    "    return train_data, test_data\n",
    "\n",
    "train_data =[]\n",
    "test_data = []\n",
    "train_data, test_data = Sort_data(cleaned_data)\n"
   ]
  },
  {
   "cell_type": "code",
   "execution_count": 187,
   "metadata": {},
   "outputs": [],
   "source": [
    "from numpy import *\n",
    "import numpy as np\n",
    "import math\n",
    "import matplotlib.pyplot as plt\n",
    "\n",
    "train_data_height_M = []\n",
    "train_data_height_F = []\n",
    "train_data_weight_M = []\n",
    "train_data_weight_F = []\n",
    "\n",
    "\n",
    "train_data_rep_height_M = []\n",
    "train_data_rep_height_F = []\n",
    "train_data_rep_weight_F = []\n",
    "train_data_rep_weight_M = []\n",
    "\n",
    "\n",
    "r_train_data_height_M = []\n",
    "r_train_data_weight_M = []\n",
    "r_train_data_height_F = []\n",
    "r_train_data_weight_F = []\n",
    "\n",
    "for row in train_data :\n",
    "    if row[1] == '\"M\"' :\n",
    "        train_data_height_M.append(row[3])\n",
    "        train_data_weight_M.append(row[2])\n",
    "    else :\n",
    "        train_data_height_F.append(row[3])\n",
    "        train_data_weight_F.append(row[2])\n",
    "\n",
    "for row in train_data :\n",
    "    if row[4] != \"NA\" and row[5] != \"NA\" :\n",
    "        if row[1] == '\"M\"' :\n",
    "            r_train_data_height_M.append(row[3])\n",
    "            r_train_data_weight_M.append(row[2])\n",
    "        else :\n",
    "            r_train_data_height_F.append(row[3])\n",
    "            r_train_data_weight_F.append(row[2])\n",
    "\n",
    "for row in train_data :\n",
    "    if row[4] != \"NA\" and row[5] != \"NA\" :\n",
    "        if row[1] == '\"M\"' :\n",
    "            train_data_rep_height_M.append(row[5])\n",
    "            train_data_rep_weight_M.append(row[4])\n",
    "        else :\n",
    "            train_data_rep_height_F.append(row[5])\n",
    "            train_data_rep_weight_F.append(row[4])\n",
    "    \n",
    "F_bars_amount = np.arange(len(train_data_rep_height_F))\n",
    "M_bars_amount = np.arange(len(train_data_rep_height_M))"
   ]
  },
  {
   "cell_type": "code",
   "execution_count": 188,
   "metadata": {},
   "outputs": [
    {
     "data": {
      "image/png": "[encoded data removed]",
      "text/plain": [
       "<Figure size 432x288 with 1 Axes>"
      ]
     },
     "metadata": {
      "needs_background": "light"
     },
     "output_type": "display_data"
    }
   ],
   "source": [
    "plt.plot(train_data_height_F,  train_data_weight_F, 'mo',label = \"F\")\n",
    "plt.plot(train_data_height_M,  train_data_weight_M, 'bo',label = \"M\")\n",
    "plt.legend(loc='upper left')\n",
    "plt.show()"
   ]
  },
  {
   "cell_type": "code",
   "execution_count": 90,
   "metadata": {},
   "outputs": [
    {
     "data": {
      "image/png": "[encoded data removed]",
      "text/plain": [
       "<Figure size 432x288 with 1 Axes>"
      ]
     },
     "metadata": {
      "needs_background": "light"
     },
     "output_type": "display_data"
    }
   ],
   "source": [
    "plt.bar(train_data_height_F,  train_data_weight_F)\n",
    "plt.show()"
   ]
  },
  {
   "cell_type": "code",
   "execution_count": 92,
   "metadata": {},
   "outputs": [
    {
     "data": {
      "image/png": "[encoded data removed]",
      "text/plain": [
       "<Figure size 432x288 with 1 Axes>"
      ]
     },
     "metadata": {
      "needs_background": "light"
     },
     "output_type": "display_data"
    }
   ],
   "source": [
    "plt.bar(train_data_height_M,  train_data_weight_M)\n",
    "plt.show()"
   ]
  },
  {
   "cell_type": "code",
   "execution_count": 97,
   "metadata": {},
   "outputs": [
    {
     "data": {
      "image/png": "[encoded data removed]",
      "text/plain": [
       "<Figure size 432x288 with 1 Axes>"
      ]
     },
     "metadata": {
      "needs_background": "light"
     },
     "output_type": "display_data"
    }
   ],
   "source": [
    "plt.bar(train_data_height_M,  train_data_weight_M, label = \"M\")\n",
    "plt.bar(train_data_height_F,  train_data_weight_F, label = \"F\")\n",
    "plt.legend(loc='upper left')\n",
    "plt.show()"
   ]
  },
  {
   "cell_type": "code",
   "execution_count": 114,
   "metadata": {},
   "outputs": [
    {
     "data": {
      "image/png": "[encoded data removed]",
      "text/plain": [
       "<Figure size 432x288 with 1 Axes>"
      ]
     },
     "metadata": {
      "needs_background": "light"
     },
     "output_type": "display_data"
    }
   ],
   "source": [
    "# train_data_rep_height_M\n",
    "# train_data_rep_height_F \n",
    "# train_data_rep_weight_F\n",
    "# train_data_rep_weight_M \n",
    "# F_bars_amount\n",
    "# M_bars_amount\n",
    "# r_train_data_height_M\n",
    "# r_train_data_weight_M\n",
    "# r_train_data_height_F\n",
    "# r_train_data_weight_F\n",
    "x = M_bars_amount\n",
    "\n",
    "width = 0.1\n",
    "fig, ax = plt.subplots()\n",
    "rects1 = ax.bar(x - width/2, r_train_data_height_M, width, label='Real')\n",
    "rects2 = ax.bar(x + width/2, train_data_rep_height_M, width, label='Rep')\n",
    "plt.show()"
   ]
  },
  {
   "cell_type": "code",
   "execution_count": null,
   "metadata": {},
   "outputs": [],
   "source": [
    "import scipy\n",
    "\n",
    "def count_woman(data) :\n",
    "    count = 0\n",
    "    for row in data :\n",
    "        if row[1] == '\"F\"' :\n",
    "            count+=1\n",
    "    return count\n",
    "\n",
    "def estimate_average(data, parameter, sex) :   #parameter = 2,3,4,5, sex \"M\" \"F\"\n",
    "    sum = 0\n",
    "    num = 0\n",
    "    for row in data :\n",
    "        if row[parameter]!= \"NA\" and row[1] == sex :\n",
    "            sum+=row[parameter]\n",
    "            num+=1\n",
    "    return sum/num\n",
    "\n",
    "def dispersion(data, parameter, sex) :   #parameter = 2,3,4,5, sex \"M\" \"F\"\n",
    "    arr = []\n",
    "    for row in data : \n",
    "        if row[parameter] != \"NA\" and row[1] == sex :\n",
    "            arr.append(row[parameter])\n",
    "    return p.std(array)**2\n",
    "\n",
    "def generate_sex(chance) :\n",
    "    if np.random.sample()<=chance :\n",
    "        return 'woman'\n",
    "    else :\n",
    "        return 'man' "
   ]
  },
  {
   "cell_type": "code",
   "execution_count": 201,
   "metadata": {
    "scrolled": true
   },
   "outputs": [
    {
     "name": "stdout",
     "output_type": "stream",
     "text": [
      "7.192648522002559e+77\n"
     ]
    }
   ],
   "source": [
    "class Point_Generator :\n",
    "    def __init__(self):\n",
    "        self.p_woman = None\n",
    "        self.mean_height = {\n",
    "            \"woman\" : None,\n",
    "            \"man\" : None\n",
    "        }\n",
    "        self.mean_weight = {\n",
    "            \"woman\" : None,\n",
    "            \"man\" : None\n",
    "        }\n",
    "        self.covariance = {\n",
    "            \"woman\" : None,\n",
    "            \"man\" : None\n",
    "        }\n",
    "        \n",
    "    def fit(self,train_data) :\n",
    "        self.p_woman  = count_woman(train_data)/len(train_data)\n",
    "        self.mean_height['woman'] = estimate_average(train_data, 3, '\"F\"')\n",
    "        self.mean_weight['woman'] = estimate_average(train_data, 2, '\"F\"')\n",
    "        self.mean_height['man']  = estimate_average(train_data, 3, '\"M\"')\n",
    "        self.mean_weight['man']  = estimate_average(train_data, 2, '\"M\"')\n",
    "        weight_arr_M = []\n",
    "        height_arr_M = []\n",
    "        weight_arr_F = []\n",
    "        height_arr_F = []\n",
    "        for row in train_data :\n",
    "            if row[1] == '\"F\"' :\n",
    "                weight_arr_F.append(row[2])\n",
    "                height_arr_F.append(row[3])\n",
    "            else : \n",
    "                weight_arr_M.append(row[2])\n",
    "                height_arr_M.append(row[3])\n",
    "        #print(weight_arr_F)\n",
    "        #print(height_arr_F)\n",
    "        self.covariance['woman'] = np.cov(weight_arr_F,height_arr_F)\n",
    "        self.covariance['man'] = np.cov(weight_arr_M,height_arr_M)\n",
    "        \n",
    "        #print(self.mean_height['woman'])\n",
    "        #print(self.covariance['woman'])\n",
    "        #print(self.covariance['man'])\n",
    "        \n",
    "    def generate_points(self,point_amount) :\n",
    "        result = [] \n",
    "        gen_weight = 0\n",
    "        gen_height = 0\n",
    "        for i in range(point_amount) :\n",
    "            sex = generate_sex(self.p_woman)\n",
    "            gen_weight, gen_height = np.random.default_rng().multivariate_normal\\\n",
    "            ([self.mean_weight[sex],self.mean_height[sex]],self.covariance[sex], 1).T\n",
    "            result.append([i,sex,gen_weight[0],gen_height[0],\"NA\",\"NA\"])\n",
    "        return result    \n",
    "    \n",
    "    def log_likelyhood(self,data) :\n",
    "        chance = 1\n",
    "        for row in data :\n",
    "            #print(row)\n",
    "            sex = row[1]\n",
    "            if sex == '\"F\"' :\n",
    "                sex = 'woman'\n",
    "            elif sex == '\"M\"' :\n",
    "                sex = 'man'\n",
    "            sex_chance = 0.5\n",
    "            if sex == 'woman' :\n",
    "                sex_chance = self.p_woman\n",
    "            else :\n",
    "                sex_chance = 1 - self.p_woman\n",
    "            \n",
    "            chance*= scipy.stats.multivariate_normal.logpdf([row[2],row[3]],\n",
    "            mean=[pg.mean_weight[sex],pg.mean_height[sex]],cov=pg.covariance[sex])\n",
    "            #print(scipy.stats.multivariate_normal.logpdf([row[2],row[3]],\n",
    "            #mean=[pg.mean_weight[sex],pg.mean_height[sex]],cov=pg.covariance[sex]))\n",
    "            #print(\"chance\" + str(chance))\n",
    "        return chance\n",
    "\n",
    "    def mean_likelyhood(self,data) :\n",
    "        return self.log_likelyhood(data) / len(data)\n",
    "pg = Point_Generator()\n",
    "pg.fit(train_data)\n",
    "print(pg.mean_likelyhood(train_data))"
   ]
  },
  {
   "cell_type": "code",
   "execution_count": 203,
   "metadata": {},
   "outputs": [],
   "source": [
    "pg = Point_Generator()\n",
    "pg.fit(train_data)\n",
    "gen_data = pg.generate_points(100)"
   ]
  },
  {
   "cell_type": "code",
   "execution_count": 178,
   "metadata": {},
   "outputs": [
    {
     "data": {
      "text/plain": [
       "{'woman': array([[42.16632997, 21.9996633 ],\n",
       "        [21.9996633 , 38.57373737]]),\n",
       " 'man': array([[153.36575053,  44.86257928],\n",
       "        [ 44.86257928,  39.62526427]])}"
      ]
     },
     "execution_count": 178,
     "metadata": {},
     "output_type": "execute_result"
    }
   ],
   "source": [
    "pg.fit(train_data)\n",
    "pg.covariance"
   ]
  },
  {
   "cell_type": "code",
   "execution_count": 186,
   "metadata": {},
   "outputs": [
    {
     "data": {
      "image/png": "[encoded data removed]",
      "text/plain": [
       "<Figure size 432x288 with 1 Axes>"
      ]
     },
     "metadata": {
      "needs_background": "light"
     },
     "output_type": "display_data"
    }
   ],
   "source": [
    "_train_data_height_M = []\n",
    "_train_data_height_F = []\n",
    "_train_data_weight_M = []\n",
    "_train_data_weight_F = []\n",
    "\n",
    "for row in gen_data :\n",
    "    if row[1] == 'man' :\n",
    "        _train_data_height_M.append(row[3])\n",
    "        _train_data_weight_M.append(row[2])\n",
    "    else :\n",
    "        _train_data_height_F.append(row[3])\n",
    "        _train_data_weight_F.append(row[2])\n",
    "        \n",
    "plt.plot(_train_data_height_F,  _train_data_weight_F, 'mo',label = \"F\")\n",
    "plt.plot(_train_data_height_M,  _train_data_weight_M, 'bo',label = \"M\")\n",
    "plt.legend(loc='upper left')\n",
    "plt.show()"
   ]
  },
  {
   "cell_type": "code",
   "execution_count": 156,
   "metadata": {},
   "outputs": [],
   "source": [
    "#var = [105.11736295687987, 175.34089688081048]\n",
    "#scipy.stats.multivariate_normal.pdf(var,[pg.mean_weight['man'],pg.mean_height['man']],pg.covariance['man'])"
   ]
  },
  {
   "cell_type": "code",
   "execution_count": 206,
   "metadata": {},
   "outputs": [],
   "source": [
    "pg_train = Point_Generator()\n",
    "pg_test = Point_Generator()\n",
    "pg_train.fit(train_data)\n",
    "pg_test.fit(test_data)\n",
    "gen_data1 = pg_train.generate_points(100)\n",
    "gen_data2 = pg_test.generate_points(100)"
   ]
  },
  {
   "cell_type": "code",
   "execution_count": 207,
   "metadata": {
    "scrolled": true
   },
   "outputs": [
    {
     "name": "stdout",
     "output_type": "stream",
     "text": [
      "7.192648522002559e+77\n",
      "1.1369307485329059e+78\n",
      "7.786575294972158e+79\n",
      "3.3511651801383287e+80\n"
     ]
    }
   ],
   "source": [
    "print(pg.mean_likelyhood(train_data))\n",
    "print(pg.mean_likelyhood(test_data))\n",
    "print(pg.mean_likelyhood(gen_data1))\n",
    "print(pg.mean_likelyhood(gen_data2))"
   ]
  },
  {
   "cell_type": "code",
   "execution_count": null,
   "metadata": {},
   "outputs": [],
   "source": []
  }
 ],
 "metadata": {
  "kernelspec": {
   "display_name": "Python 3",
   "language": "python",
   "name": "python3"
  },
  "language_info": {
   "codemirror_mode": {
    "name": "ipython",
    "version": 3
   },
   "file_extension": ".py",
   "mimetype": "text/x-python",
   "name": "python",
   "nbconvert_exporter": "python",
   "pygments_lexer": "ipython3",
   "version": "3.8.5"
  }
 },
 "nbformat": 4,
 "nbformat_minor": 4
}
