{
 "cells": [
  {
   "cell_type": "code",
   "execution_count": 172,
   "metadata": {},
   "outputs": [
    {
     "name": "stdout",
     "output_type": "stream",
     "text": [
      "['-117.56', '33.94', '6.0', '575.0', '73.0', '318.0', '88.0', '7.0215', '257100.0', 'INLAND']\n"
     ]
    },
    {
     "data": {
      "text/plain": [
       "['longitude',\n",
       " 'latitude',\n",
       " 'housing_median_age',\n",
       " 'total_rooms',\n",
       " 'total_bedrooms',\n",
       " 'population',\n",
       " 'households',\n",
       " 'median_income',\n",
       " 'median_house_value',\n",
       " 'ocean_proximity']"
      ]
     },
     "execution_count": 172,
     "metadata": {},
     "output_type": "execute_result"
    }
   ],
   "source": [
    "import csv\n",
    "from numpy import *\n",
    "import numpy as np\n",
    "import math\n",
    "import matplotlib.pyplot as plt\n",
    "\n",
    "original_data = []\n",
    "with open('/home/kevin/Загрузки/housing.csv', newline='') as csvfile:\n",
    "    spamreader = csv.reader(csvfile, delimiter=' ', quotechar='|')\n",
    "    for row in spamreader :\n",
    "            #print(row)\n",
    "            #print(', '.join(row))\n",
    "            if len(row) == 2 :\n",
    "                row[0] = row[0] + row[1] \n",
    "            original_data.append(row[0].split(\",\"))\n",
    "            #print(row[0].split(\",\"))\n",
    "print((original_data[12000]))\n",
    "original_data.pop(0)"
   ]
  },
  {
   "cell_type": "code",
   "execution_count": 184,
   "metadata": {
    "scrolled": false
   },
   "outputs": [],
   "source": [
    "water_proximity_value = {\n",
    "\"<1H OCEAN\" : [1, 0, 0],\n",
    "\"NEAR OCEAN\" : [1, 1, 0],\n",
    "\"NEAR BAY\" : [1, 1, 1],\n",
    "\"ISLAND\" : [1, 1, 1 ],\n",
    "\"INLAND\" : [0, 0, 0]\n",
    "}\n",
    "#пробный вариант преобразования. \n",
    "# Логика, что три параметра определяют близость к воде разными способами.\n",
    "\n",
    "def Clean_Data(data) :\n",
    "    result = []\n",
    "    for row in data :\n",
    "        #print(row)\n",
    "        does_row_miss_data = False\n",
    "        for i in range(0,9) :\n",
    "            if row[i] == '' :\n",
    "                does_row_miss_data = True\n",
    "                print(row)\n",
    "                break\n",
    "            row[i] = float(row[i])\n",
    "        if does_row_miss_data == True :\n",
    "            continue\n",
    "        if row[9] == \"<1HOCEAN\" :\n",
    "            result.append(row[0:9] + water_proximity_value[\"<1H OCEAN\"])\n",
    "        elif row[9] == \"ISLAND\" :\n",
    "            result.append(row[0:9] + water_proximity_value[\"ISLAND\"])\n",
    "        elif row[9] == \"INLAND\" :\n",
    "            result.append(row[0:9] + water_proximity_value[\"INLAND\"])\n",
    "        elif row[9] == \"NEAROCEAN\" :\n",
    "            result.append(row[0:9] + water_proximity_value[\"NEAR OCEAN\"])\n",
    "        elif row[9] == \"NEARBAY\": \n",
    "            result.append(row[0:9] + water_proximity_value[\"NEAR BAY\"])\n",
    "        else : \n",
    "            print(\"messed up somewhere\")\n",
    "    return result"
   ]
  },
  {
   "cell_type": "code",
   "execution_count": 285,
   "metadata": {},
   "outputs": [
    {
     "name": "stdout",
     "output_type": "stream",
     "text": [
      "[-122.16, 37.77, 47.0, 1256.0, '', '570.0', '218.0', '4.375', '161900.0', 'NEARBAY']\n",
      "[-122.17, 37.75, 38.0, 992.0, '', '732.0', '259.0', '1.6196', '85100.0', 'NEARBAY']\n",
      "[-122.28, 37.78, 29.0, 5154.0, '', '3741.0', '1273.0', '2.5762', '173400.0', 'NEARBAY']\n",
      "[-122.24, 37.75, 45.0, 891.0, '', '384.0', '146.0', '4.9489', '247100.0', 'NEARBAY']\n",
      "[-122.1, 37.69, 41.0, 746.0, '', '387.0', '161.0', '3.9063', '178400.0', 'NEARBAY']\n",
      "[-122.14, 37.67, 37.0, 3342.0, '', '1635.0', '557.0', '4.7933', '186900.0', 'NEARBAY']\n",
      "[-121.77, 39.66, 20.0, 3759.0, '', '1705.0', '600.0', '4.712', '158600.0', 'INLAND']\n",
      "[-121.95, 38.03, 5.0, 5526.0, '', '3207.0', '1012.0', '4.0767', '143100.0', 'INLAND']\n",
      "[-121.98, 37.96, 22.0, 2987.0, '', '1420.0', '540.0', '3.65', '204100.0', 'INLAND']\n",
      "[-122.01, 37.94, 23.0, 3741.0, '', '1339.0', '499.0', '6.7061', '322300.0', 'NEARBAY']\n",
      "[-122.08, 37.88, 26.0, 2947.0, '', '825.0', '626.0', '2.933', '85000.0', 'NEARBAY']\n",
      "[-119.75, 36.71, 38.0, 1481.0, '', '1543.0', '372.0', '1.4577', '49800.0', 'INLAND']\n",
      "[-119.72, 36.76, 23.0, 6403.0, '', '3573.0', '1260.0', '2.3006', '69000.0', 'INLAND']\n",
      "[-119.78, 36.82, 25.0, 5016.0, '', '2133.0', '928.0', '3.625', '89500.0', 'INLAND']\n",
      "[-119.73, 36.83, 8.0, 3602.0, '', '1959.0', '580.0', '5.3478', '138800.0', 'INLAND']\n",
      "[-119.69, 36.83, 32.0, 1098.0, '', '726.0', '224.0', '1.4913', '54600.0', 'INLAND']\n",
      "[-119.68, 36.79, 16.0, 1551.0, '', '1010.0', '292.0', '3.5417', '71300.0', 'INLAND']\n",
      "[-119.45, 36.61, 24.0, 1302.0, '', '693.0', '243.0', '3.7917', '90500.0', 'INLAND']\n",
      "[-119.44, 36.58, 37.0, 1054.0, '', '879.0', '257.0', '2.5234', '63500.0', 'INLAND']\n",
      "[-124.06, 40.86, 34.0, 4183.0, '', '1891.0', '669.0', '3.2216', '98100.0', 'NEAROCEAN']\n",
      "[-124.0, 40.92, 29.0, 1429.0, '', '672.0', '266.0', '2.9485', '98800.0', '<1HOCEAN']\n",
      "[-124.13, 40.55, 38.0, 544.0, '', '240.0', '91.0', '3.25', '94800.0', '<1HOCEAN']\n",
      "[-119.11, 35.42, 52.0, 154.0, '', '37.0', '16.0', '10.0263', '200000.0', 'INLAND']\n",
      "[-119.46, 35.14, 30.0, 2943.0, '', '1565.0', '584.0', '2.5313', '45800.0', 'INLAND']\n",
      "[-122.72, 38.88, 29.0, 2781.0, '', '890.0', '310.0', '1.9906', '96600.0', 'INLAND']\n",
      "[-120.67, 40.5, 15.0, 5343.0, '', '2503.0', '902.0', '3.5962', '85900.0', 'INLAND']\n",
      "[-118.28, 34.25, 29.0, 2559.0, '', '1886.0', '769.0', '2.6036', '162100.0', '<1HOCEAN']\n",
      "[-118.45, 34.3, 27.0, 2676.0, '', '2661.0', '623.0', '4.3047', '152100.0', '<1HOCEAN']\n",
      "[-118.55, 34.28, 16.0, 8879.0, '', '3468.0', '1200.0', '8.1125', '428600.0', '<1HOCEAN']\n",
      "[-118.53, 34.26, 18.0, 3674.0, '', '1590.0', '550.0', '8.176', '308400.0', '<1HOCEAN']\n",
      "[-118.43, 34.2, 28.0, 3386.0, '', '2240.0', '737.0', '3.0221', '290100.0', '<1HOCEAN']\n",
      "[-118.4, 34.17, 24.0, 6347.0, '', '2945.0', '1492.0', '3.3545', '221500.0', '<1HOCEAN']\n",
      "[-118.55, 34.19, 18.0, 5862.0, '', '3161.0', '1280.0', '3.1106', '170600.0', '<1HOCEAN']\n",
      "[-118.56, 34.2, 35.0, 2273.0, '', '1431.0', '403.0', '4.0789', '196700.0', '<1HOCEAN']\n",
      "[-118.59, 34.2, 21.0, 1789.0, '', '2300.0', '677.0', '2.754', '179800.0', '<1HOCEAN']\n",
      "[-118.5, 34.17, 37.0, 880.0, '', '369.0', '155.0', '4.1429', '303600.0', '<1HOCEAN']\n",
      "[-118.49, 34.13, 24.0, 4394.0, '', '1443.0', '528.0', '11.2979', '500001.0', '<1HOCEAN']\n",
      "[-118.23, 34.13, 48.0, 1308.0, '', '835.0', '294.0', '4.2891', '214800.0', '<1HOCEAN']\n",
      "[-118.31, 34.09, 37.0, 773.0, '', '835.0', '312.0', '1.8576', '193800.0', '<1HOCEAN']\n",
      "[-118.32, 34.09, 44.0, 2666.0, '', '2297.0', '726.0', '1.676', '208800.0', '<1HOCEAN']\n",
      "[-118.27, 34.07, 27.0, 1190.0, '', '1795.0', '422.0', '1.7016', '160000.0', '<1HOCEAN']\n",
      "[-118.21, 34.07, 52.0, 1770.0, '', '1848.0', '439.0', '2.4135', '167200.0', '<1HOCEAN']\n",
      "[-118.22, 34.05, 34.0, 1113.0, '', '928.0', '290.0', '3.1654', '155000.0', '<1HOCEAN']\n",
      "[-118.28, 34.06, 42.0, 2472.0, '', '3795.0', '1179.0', '1.2254', '162500.0', '<1HOCEAN']\n",
      "[-118.27, 34.04, 13.0, 1784.0, '', '2158.0', '682.0', '1.7038', '118100.0', '<1HOCEAN']\n",
      "[-118.3, 34.07, 18.0, 3759.0, '', '3296.0', '1462.0', '2.2708', '175000.0', '<1HOCEAN']\n",
      "[-118.29, 34.05, 34.0, 1102.0, '', '1325.0', '439.0', '1.5972', '168800.0', '<1HOCEAN']\n",
      "[-118.37, 34.07, 50.0, 2519.0, '', '1117.0', '516.0', '4.3667', '405600.0', '<1HOCEAN']\n",
      "[-118.38, 34.05, 49.0, 702.0, '', '458.0', '187.0', '4.8958', '333600.0', '<1HOCEAN']\n",
      "[-118.36, 34.05, 42.0, 1372.0, '', '674.0', '271.0', '2.8793', '202100.0', '<1HOCEAN']\n",
      "[-118.36, 34.05, 45.0, 2283.0, '', '1093.0', '475.0', '2.5658', '252000.0', '<1HOCEAN']\n",
      "[-118.37, 34.03, 37.0, 1236.0, '', '966.0', '292.0', '3.0694', '122200.0', '<1HOCEAN']\n",
      "[-118.31, 34.03, 47.0, 1315.0, '', '785.0', '245.0', '1.23', '138400.0', '<1HOCEAN']\n",
      "[-118.35, 34.01, 35.0, 3776.0, '', '1583.0', '749.0', '3.5486', '332100.0', '<1HOCEAN']\n",
      "[-118.25, 33.94, 43.0, 793.0, '', '736.0', '231.0', '0.8527', '90400.0', '<1HOCEAN']\n",
      "[-118.25, 33.95, 28.0, 2136.0, '', '1799.0', '476.0', '1.5427', '95700.0', '<1HOCEAN']\n",
      "[-118.23, 33.94, 36.0, 1110.0, '', '1417.0', '302.0', '2.3333', '92100.0', '<1HOCEAN']\n",
      "[-118.3, 33.73, 42.0, 1731.0, '', '866.0', '403.0', '2.7451', '255400.0', 'NEAROCEAN']\n",
      "[-118.29, 33.73, 30.0, 3161.0, '', '1865.0', '771.0', '2.7139', '231700.0', 'NEAROCEAN']\n",
      "[-118.3, 33.72, 35.0, 2790.0, '', '1167.0', '441.0', '6.2028', '361500.0', 'NEAROCEAN']\n",
      "[-118.23, 34.18, 45.0, 2332.0, '', '943.0', '339.0', '8.1132', '446600.0', '<1HOCEAN']\n",
      "[-118.27, 34.17, 52.0, 2010.0, '', '908.0', '326.0', '6.9135', '374000.0', '<1HOCEAN']\n",
      "[-117.73, 34.1, 37.0, 3457.0, '', '1344.0', '530.0', '5.8891', '226000.0', 'INLAND']\n",
      "[-117.76, 34.04, 34.0, 1914.0, '', '1564.0', '328.0', '2.8347', '115800.0', 'INLAND']\n",
      "[-117.86, 34.01, 16.0, 4632.0, '', '3038.0', '727.0', '5.1762', '264400.0', '<1HOCEAN']\n",
      "[-117.91, 34.05, 35.0, 3189.0, '', '1727.0', '500.0', '5.0758', '211100.0', '<1HOCEAN']\n",
      "[-117.97, 34.06, 31.0, 2516.0, '', '2194.0', '497.0', '3.2413', '155500.0', '<1HOCEAN']\n",
      "[-117.96, 34.03, 35.0, 2093.0, '', '1755.0', '403.0', '3.4115', '150400.0', '<1HOCEAN']\n",
      "[-117.91, 34.02, 22.0, 6269.0, '', '5587.0', '1251.0', '3.8201', '136200.0', '<1HOCEAN']\n",
      "[-117.99, 34.14, 30.0, 2346.0, '', '1988.0', '474.0', '2.5625', '153000.0', 'INLAND']\n",
      "[-118.05, 34.04, 33.0, 1348.0, '', '1098.0', '257.0', '4.2917', '161200.0', '<1HOCEAN']\n",
      "[-118.18, 34.19, 48.0, 1371.0, '', '528.0', '155.0', '15.0001', '500001.0', '<1HOCEAN']\n",
      "[-118.07, 34.1, 32.0, 4275.0, '', '2812.0', '1012.0', '3.3512', '214100.0', '<1HOCEAN']\n",
      "[-118.12, 34.08, 35.0, 2248.0, '', '1762.0', '622.0', '3.0', '253900.0', '<1HOCEAN']\n",
      "[-118.05, 33.99, 38.0, 1619.0, '', '886.0', '357.0', '3.7328', '182400.0', '<1HOCEAN']\n",
      "[-117.98, 33.92, 27.0, 3700.0, '', '1793.0', '552.0', '5.3668', '219800.0', '<1HOCEAN']\n",
      "[-118.02, 33.89, 36.0, 1375.0, '', '670.0', '221.0', '5.0839', '198200.0', '<1HOCEAN']\n",
      "[-118.17, 34.06, 43.0, 464.0, '', '416.0', '120.0', '2.475', '142600.0', '<1HOCEAN']\n",
      "[-118.18, 34.04, 42.0, 1670.0, '', '1997.0', '452.0', '2.788', '150500.0', '<1HOCEAN']\n",
      "[-118.16, 34.01, 40.0, 1552.0, '', '1919.0', '427.0', '2.2596', '137500.0', '<1HOCEAN']\n",
      "[-118.19, 33.98, 36.0, 4179.0, '', '4582.0', '1196.0', '2.0087', '172100.0', '<1HOCEAN']\n",
      "[-118.17, 33.98, 41.0, 756.0, '', '873.0', '212.0', '2.7321', '156000.0', '<1HOCEAN']\n",
      "[-118.2, 33.92, 45.0, 1283.0, '', '1025.0', '248.0', '3.2798', '141200.0', '<1HOCEAN']\n",
      "[-118.26, 33.83, 24.0, 3059.0, '', '2064.0', '629.0', '3.5518', '184600.0', '<1HOCEAN']\n",
      "[-118.08, 33.92, 38.0, 1335.0, '', '1011.0', '269.0', '3.6908', '157500.0', '<1HOCEAN']\n",
      "[-118.1, 33.91, 36.0, 726.0, '', '490.0', '130.0', '3.6389', '167600.0', '<1HOCEAN']\n",
      "[-118.09, 33.89, 42.0, 991.0, '', '717.0', '219.0', '4.0926', '164400.0', '<1HOCEAN']\n",
      "[-118.31, 33.94, 40.0, 1550.0, '', '798.0', '270.0', '3.775', '153800.0', '<1HOCEAN']\n",
      "[-118.36, 33.96, 26.0, 3543.0, '', '2742.0', '951.0', '2.5504', '151300.0', '<1HOCEAN']\n",
      "[-118.35, 33.9, 31.0, 1547.0, '', '956.0', '287.0', '3.4698', '225000.0', '<1HOCEAN']\n",
      "[-118.46, 34.03, 52.0, 523.0, '', '317.0', '130.0', '2.2794', '337500.0', '<1HOCEAN']\n",
      "[-118.5, 34.46, 17.0, 10267.0, '', '4956.0', '1483.0', '5.5061', '239400.0', '<1HOCEAN']\n",
      "[-120.61, 37.36, 16.0, 638.0, '', '380.0', '132.0', '1.9135', '87500.0', 'INLAND']\n",
      "[-120.4, 37.3, 28.0, 1401.0, '', '967.0', '257.0', '1.5917', '89400.0', 'INLAND']\n",
      "[-120.32, 37.29, 38.0, 576.0, '', '478.0', '112.0', '2.3382', '59600.0', 'INLAND']\n",
      "[-121.93, 36.62, 34.0, 2351.0, '', '1063.0', '428.0', '3.725', '278000.0', 'NEAROCEAN']\n",
      "[-121.9, 36.58, 31.0, 1431.0, '', '704.0', '393.0', '3.1977', '289300.0', 'NEAROCEAN']\n",
      "[-121.85, 36.61, 38.0, 238.0, '', '191.0', '67.0', '1.3897', '125000.0', '<1HOCEAN']\n",
      "[-122.23, 38.17, 45.0, 350.0, '', '225.0', '72.0', '1.8942', '216700.0', 'NEARBAY']\n",
      "[-122.48, 38.5, 37.0, 3049.0, '', '1287.0', '439.0', '4.3125', '276500.0', 'INLAND']\n",
      "[-121.08, 39.22, 30.0, 2188.0, '', '1033.0', '437.0', '2.1419', '105200.0', 'INLAND']\n",
      "[-117.91, 33.87, 29.0, 1121.0, '', '762.0', '276.0', '2.5', '143800.0', '<1HOCEAN']\n",
      "[-117.92, 33.87, 33.0, 1597.0, '', '1888.0', '423.0', '3.055', '157800.0', '<1HOCEAN']\n",
      "[-117.65, 33.6, 15.0, 5736.0, '', '2529.0', '762.0', '6.4114', '278700.0', '<1HOCEAN']\n",
      "[-117.66, 33.58, 6.0, 4186.0, '', '1794.0', '541.0', '9.6986', '357600.0', '<1HOCEAN']\n",
      "[-117.64, 33.45, 26.0, 1528.0, '', '607.0', '218.0', '6.2871', '325500.0', 'NEAROCEAN']\n",
      "[-117.66, 33.51, 18.0, 2626.0, '', '1302.0', '522.0', '4.0167', '189600.0', '<1HOCEAN']\n",
      "[-117.87, 33.62, 8.0, 1266.0, '', '375.0', '183.0', '9.802', '500001.0', '<1HOCEAN']\n",
      "[-117.92, 33.7, 15.0, 3201.0, '', '1510.0', '622.0', '4.2708', '161700.0', '<1HOCEAN']\n",
      "[-117.87, 33.73, 45.0, 2264.0, '', '1970.0', '499.0', '3.4193', '177000.0', '<1HOCEAN']\n",
      "[-117.87, 33.83, 27.0, 2287.0, '', '1140.0', '351.0', '5.6163', '231000.0', '<1HOCEAN']\n",
      "[-117.96, 33.78, 33.0, 1520.0, '', '658.0', '242.0', '4.875', '269300.0', '<1HOCEAN']\n",
      "[-117.91, 33.76, 20.0, 4413.0, '', '4818.0', '1063.0', '2.8594', '215100.0', '<1HOCEAN']\n",
      "[-117.98, 33.73, 18.0, 3833.0, '', '2192.0', '996.0', '3.4679', '219700.0', '<1HOCEAN']\n",
      "[-117.98, 33.68, 24.0, 4177.0, '', '1704.0', '606.0', '6.2473', '281900.0', '<1HOCEAN']\n",
      "[-118.1, 33.74, 32.0, 2035.0, '', '934.0', '512.0', '4.2287', '500001.0', 'NEAROCEAN']\n",
      "[-121.13, 38.87, 48.0, 1127.0, '', '530.0', '186.0', '3.0917', '128100.0', 'INLAND']\n",
      "[-117.34, 33.94, 13.0, 7910.0, '', '3382.0', '1176.0', '5.5563', '214500.0', 'INLAND']\n",
      "[-116.21, 33.75, 22.0, 894.0, '', '830.0', '202.0', '3.0673', '68200.0', 'INLAND']\n",
      "[-121.44, 38.54, 39.0, 2855.0, '', '1217.0', '562.0', '3.2404', '93600.0', 'INLAND']\n",
      "[-121.47, 38.61, 31.0, 1072.0, '', '781.0', '281.0', '1.6563', '65800.0', 'INLAND']\n",
      "[-121.19, 38.71, 11.0, 4415.0, '', '1520.0', '627.0', '3.2321', '390800.0', 'INLAND']\n",
      "[-121.3, 38.58, 16.0, 1537.0, '', '1125.0', '375.0', '2.6471', '90700.0', 'INLAND']\n",
      "[-117.61, 34.08, 12.0, 4427.0, '', '2400.0', '843.0', '4.7147', '158700.0', 'INLAND']\n",
      "[-117.65, 34.04, 15.0, 3393.0, '', '2039.0', '611.0', '3.9336', '151000.0', 'INLAND']\n",
      "[-117.67, 34.04, 13.0, 1543.0, '', '776.0', '358.0', '3.0598', '99700.0', 'INLAND']\n",
      "[-117.28, 34.09, 44.0, 376.0, '', '273.0', '107.0', '2.2917', '90800.0', 'INLAND']\n",
      "[-117.3, 34.05, 6.0, 2155.0, '', '1039.0', '391.0', '1.6675', '95800.0', 'INLAND']\n",
      "[-117.22, 34.11, 26.0, 2972.0, '', '1972.0', '532.0', '2.0388', '80400.0', 'INLAND']\n",
      "[-114.59, 34.83, 41.0, 812.0, '', '375.0', '158.0', '1.7083', '48500.0', 'INLAND']\n",
      "[-117.28, 34.26, 18.0, 3895.0, '', '1086.0', '375.0', '3.3672', '133600.0', 'INLAND']\n",
      "[-117.31, 34.25, 29.0, 4610.0, '', '1569.0', '592.0', '2.7663', '97900.0', 'INLAND']\n",
      "[-117.17, 32.75, 52.0, 1052.0, '', '381.0', '201.0', '3.0726', '289600.0', 'NEAROCEAN']\n",
      "[-117.09, 32.77, 31.0, 3062.0, '', '1263.0', '539.0', '3.0875', '291500.0', 'NEAROCEAN']\n",
      "[-117.05, 32.75, 36.0, 2024.0, '', '1030.0', '390.0', '3.8233', '139800.0', 'NEAROCEAN']\n",
      "[-117.14, 32.71, 52.0, 500.0, '', '480.0', '108.0', '1.8696', '91100.0', 'NEAROCEAN']\n",
      "[-117.15, 32.72, 51.0, 1321.0, '', '781.0', '499.0', '1.3071', '250000.0', 'NEAROCEAN']\n",
      "[-117.23, 32.75, 5.0, 1824.0, '', '892.0', '426.0', '3.4286', '137500.0', 'NEAROCEAN']\n",
      "[-117.27, 32.85, 26.0, 1373.0, '', '608.0', '268.0', '4.425', '475000.0', 'NEAROCEAN']\n",
      "[-117.14, 32.9, 16.0, 3217.0, '', '2054.0', '687.0', '4.2234', '162100.0', '<1HOCEAN']\n",
      "[-117.2, 32.79, 29.0, 1213.0, '', '654.0', '246.0', '4.5987', '255600.0', 'NEAROCEAN']\n",
      "[-117.02, 32.66, 19.0, 771.0, '', '376.0', '108.0', '6.6272', '273600.0', 'NEAROCEAN']\n",
      "[-117.01, 32.74, 31.0, 3473.0, '', '2098.0', '677.0', '2.6973', '135200.0', '<1HOCEAN']\n",
      "[-117.03, 32.73, 34.0, 2061.0, '', '1169.0', '400.0', '3.5096', '142000.0', 'NEAROCEAN']\n",
      "[-122.08, 37.88, 26.0, 2947.0, '', '825.0', '626.0', '2.933', '85000.0', 'NEARBAY']\n"
     ]
    }
   ],
   "source": [
    "train_data = Clean_Data(original_data[0:1001])\n",
    "test_data = Clean_Data(original_data[1001:1501])\n",
    "validation_data = Clean_Data(original_data[1501:2000])"
   ]
  },
  {
   "cell_type": "code",
   "execution_count": 286,
   "metadata": {},
   "outputs": [
    {
     "name": "stdout",
     "output_type": "stream",
     "text": [
      "9901\n"
     ]
    }
   ],
   "source": [
    "print(len(train_data))"
   ]
  },
  {
   "cell_type": "code",
   "execution_count": 287,
   "metadata": {},
   "outputs": [],
   "source": [
    "def get_data_array(data, parameter,parameter_criteria = None, parameter_criteria_value = None) :\n",
    "    result = []\n",
    "    for row in data :\n",
    "        if parameter_criteria != None and parameter_criteria_value != None :\n",
    "            if row[parameter_criteria] == parameter_criteria_value :\n",
    "                result.append(row[parameter])\n",
    "        else : \n",
    "            result.append(row[parameter])\n",
    "    return result"
   ]
  },
  {
   "cell_type": "code",
   "execution_count": 288,
   "metadata": {},
   "outputs": [],
   "source": [
    "np.random.seed(777)\n",
    "\n",
    "def get_random_batch(data, batch_size) :\n",
    "    #print(data)\n",
    "    #print('-------------')\n",
    "    np.random.shuffle(data)\n",
    "    #print(data)\n",
    "    rnd = np.random.random() \n",
    "    return data[(0 + int(rnd*len(data)) - batch_size):(int(rnd * len(data)))]\n"
   ]
  },
  {
   "cell_type": "code",
   "execution_count": 289,
   "metadata": {},
   "outputs": [
    {
     "data": {
      "image/png": "[encoded data removed]",
      "text/plain": [
       "<Figure size 432x288 with 2 Axes>"
      ]
     },
     "metadata": {
      "needs_background": "light"
     },
     "output_type": "display_data"
    }
   ],
   "source": [
    "data = get_random_batch(train_data,100)\n",
    "\n",
    "fig, axs = plt.subplots(1,2)\n",
    "ax1 = axs[0]\n",
    "ax2 = axs[1]\n",
    "ax1.plot(get_data_array(data,8), get_data_array(data,3), 'm.',label = \"total_rooms\")\n",
    "ax2.plot(get_data_array(data,8), get_data_array(data,4), 'b.',label = \"total_bedrooms\")\n",
    "ax1.set_yscale('linear')\n",
    "ax2.set_yscale('linear')\n",
    "ax1.set_xscale('log')\n",
    "ax2.set_xscale('log')\n",
    "ax1.legend(loc='upper left')\n",
    "ax2.legend(loc='upper left')\n",
    "ax1.set_xlabel('median_cost')\n",
    "ax1.set_ylabel('number of rooms')\n",
    "ax2.set_xlabel('median_cost')\n",
    "#ax2.set_ylabel('number of rooms')\n",
    "\n",
    "\n",
    "plt.show()"
   ]
  },
  {
   "cell_type": "code",
   "execution_count": 369,
   "metadata": {},
   "outputs": [],
   "source": [
    "import torch\n",
    "\n",
    "class SineNet(torch.nn.Module):\n",
    "    def __init__(self, n_hidden_neurons):\n",
    "        super(SineNet, self).__init__()\n",
    "        self.fc1 = torch.nn.Linear(11, n_hidden_neurons)\n",
    "        self.act1 = torch.nn.ELU()\n",
    "        self.fc2 = torch.nn.Linear(n_hidden_neurons, n_hidden_neurons)\n",
    "        self.act2 = torch.nn.ELU()\n",
    "        self.fc3 = torch.nn.Linear(n_hidden_neurons, 1)\n",
    "\n",
    "    def forward(self, x):\n",
    "#         print('starting data')\n",
    "#         print(x)\n",
    "        x = self.fc1(x)\n",
    "#         print('after fc1')\n",
    "#         print(x)\n",
    "        x = self.act1(x)\n",
    "#         print('after act1')\n",
    "#         print(x)\n",
    "        x = self.fc2(x)\n",
    "#         print('after fc2')\n",
    "#         print(x)\n",
    "        x = self.act2(x)\n",
    "#         print('after act2')\n",
    "#         print(x)\n",
    "        x = self.fc3(x)\n",
    "#         print('after fc3')\n",
    "#         print(x)\n",
    "        return x\n",
    "\n",
    "sine_net = SineNet(20)"
   ]
  },
  {
   "cell_type": "code",
   "execution_count": 370,
   "metadata": {},
   "outputs": [],
   "source": [
    "optimizer = torch.optim.Adam(sine_net.parameters(), lr=0.01)"
   ]
  },
  {
   "cell_type": "code",
   "execution_count": 371,
   "metadata": {},
   "outputs": [],
   "source": [
    "def Split_data(data) :\n",
    "    x_data = []\n",
    "    y_data = []\n",
    "    for row in data :\n",
    "        x_data.append(row[0:8]+row[9:12])\n",
    "        y_data.append(row[8])\n",
    "    return x_data, y_data"
   ]
  },
  {
   "cell_type": "code",
   "execution_count": 372,
   "metadata": {},
   "outputs": [
    {
     "name": "stdout",
     "output_type": "stream",
     "text": [
      "tensor([[[-118.3800,   33.8200,   35.0000,  ...,    1.0000,    1.0000,\n",
      "             0.0000]],\n",
      "\n",
      "        [[-124.1600,   41.7400,   15.0000,  ...,    1.0000,    1.0000,\n",
      "             0.0000]],\n",
      "\n",
      "        [[-118.4100,   34.1400,   33.0000,  ...,    1.0000,    0.0000,\n",
      "             0.0000]],\n",
      "\n",
      "        ...,\n",
      "\n",
      "        [[-118.4300,   34.1500,   31.0000,  ...,    1.0000,    0.0000,\n",
      "             0.0000]],\n",
      "\n",
      "        [[-118.1600,   33.8900,   46.0000,  ...,    1.0000,    0.0000,\n",
      "             0.0000]],\n",
      "\n",
      "        [[-119.0700,   35.2700,   25.0000,  ...,    0.0000,    0.0000,\n",
      "             0.0000]]], requires_grad=True)\n"
     ]
    }
   ],
   "source": [
    "# x_train = x_train.clone().detach()\n",
    "# y_train = y_train.clone().detach()\n",
    "# x_test = x_test.clone().detach()\n",
    "# y_test =y_test.clone().detach()\n",
    "# x_val = x_val.clone().detach()\n",
    "# y_val = y_val.clone().detach()\n",
    "\n",
    "x_train, y_train = Split_data(train_data)\n",
    "x_test,y_test = Split_data(test_data)\n",
    "x_val, y_val = Split_data(validation_data)\n",
    "\n",
    "x_train = torch.as_tensor(x_train,dtype = torch.float)\n",
    "y_train = torch.as_tensor(y_train,dtype = torch.float)\n",
    "x_test  = torch.as_tensor(x_test,dtype = torch.float)\n",
    "y_test  = torch.as_tensor(y_test,dtype = torch.float)\n",
    "x_val   = torch.as_tensor(x_val,dtype = torch.float)\n",
    "y_val   = torch.as_tensor(y_val,dtype = torch.float)\n",
    "\n",
    "x_train.unsqueeze_(1)\n",
    "y_train.unsqueeze_(1)\n",
    "x_test.unsqueeze_(1)\n",
    "y_test.unsqueeze_(1)\n",
    "x_val.unsqueeze_(1)\n",
    "y_val.unsqueeze_(1)\n",
    "\n",
    "x_train.requires_grad_()\n",
    "y_train.requires_grad_()\n",
    "x_test.requires_grad_()\n",
    "y_test.requires_grad_()\n",
    "x_val.requires_grad_()\n",
    "y_val.requires_grad_()\n",
    "\n",
    "print(x_train)"
   ]
  },
  {
   "cell_type": "code",
   "execution_count": 373,
   "metadata": {},
   "outputs": [],
   "source": [
    "def loss(pred, target):\n",
    "    squares = (pred - target) ** 2\n",
    "    #print(squares)\n",
    "    return squares.mean()\n"
   ]
  },
  {
   "cell_type": "code",
   "execution_count": 374,
   "metadata": {},
   "outputs": [],
   "source": [
    "def predict(net, x, y):\n",
    "    y_pred = net.forward(x)\n",
    "    \n",
    "    #print(loss(y_pred, y))\n",
    "    #plt.bar(np.arange(len(x)),y,label = 'real cost')\n",
    "    #plt.bar(np.arange(len(x)),y_pred,label = 'pred cost')\n",
    "    \n",
    "#predict(sine_net, x_val, y_val)"
   ]
  },
  {
   "cell_type": "code",
   "execution_count": 381,
   "metadata": {
    "scrolled": false
   },
   "outputs": [
    {
     "name": "stdout",
     "output_type": "stream",
     "text": [
      "tensor(1.3717e+10, grad_fn=<MeanBackward0>)\n",
      "tensor(1.3716e+10, grad_fn=<MeanBackward0>)\n",
      "tensor(1.3716e+10, grad_fn=<MeanBackward0>)\n",
      "tensor(1.3715e+10, grad_fn=<MeanBackward0>)\n",
      "tensor(1.3714e+10, grad_fn=<MeanBackward0>)\n",
      "tensor(1.3714e+10, grad_fn=<MeanBackward0>)\n",
      "tensor(1.3713e+10, grad_fn=<MeanBackward0>)\n"
     ]
    },
    {
     "ename": "KeyboardInterrupt",
     "evalue": "",
     "output_type": "error",
     "traceback": [
      "\u001b[0;31m---------------------------------------------------------------------------\u001b[0m",
      "\u001b[0;31mKeyboardInterrupt\u001b[0m                         Traceback (most recent call last)",
      "\u001b[0;32m<ipython-input-381-5acdeee2a558>\u001b[0m in \u001b[0;36m<module>\u001b[0;34m\u001b[0m\n\u001b[1;32m      9\u001b[0m     \u001b[0mloss_val\u001b[0m \u001b[0;34m=\u001b[0m \u001b[0mloss\u001b[0m\u001b[0;34m(\u001b[0m\u001b[0my_pred\u001b[0m\u001b[0;34m,\u001b[0m \u001b[0my_train\u001b[0m\u001b[0;34m)\u001b[0m\u001b[0;34m\u001b[0m\u001b[0;34m\u001b[0m\u001b[0m\n\u001b[1;32m     10\u001b[0m     \u001b[0mprint\u001b[0m\u001b[0;34m(\u001b[0m\u001b[0mloss_val\u001b[0m\u001b[0;34m)\u001b[0m\u001b[0;34m\u001b[0m\u001b[0;34m\u001b[0m\u001b[0m\n\u001b[0;32m---> 11\u001b[0;31m     \u001b[0mloss_val\u001b[0m\u001b[0;34m.\u001b[0m\u001b[0mbackward\u001b[0m\u001b[0;34m(\u001b[0m\u001b[0;34m)\u001b[0m\u001b[0;34m\u001b[0m\u001b[0;34m\u001b[0m\u001b[0m\n\u001b[0m\u001b[1;32m     12\u001b[0m     \u001b[0;31m#print(sine_net.parameters())\u001b[0m\u001b[0;34m\u001b[0m\u001b[0;34m\u001b[0m\u001b[0;34m\u001b[0m\u001b[0m\n\u001b[1;32m     13\u001b[0m     \u001b[0moptimizer\u001b[0m\u001b[0;34m.\u001b[0m\u001b[0mstep\u001b[0m\u001b[0;34m(\u001b[0m\u001b[0;34m)\u001b[0m\u001b[0;34m\u001b[0m\u001b[0;34m\u001b[0m\u001b[0m\n",
      "\u001b[0;32m~/.local/lib/python3.8/site-packages/torch/tensor.py\u001b[0m in \u001b[0;36mbackward\u001b[0;34m(self, gradient, retain_graph, create_graph)\u001b[0m\n\u001b[1;32m    219\u001b[0m                 \u001b[0mretain_graph\u001b[0m\u001b[0;34m=\u001b[0m\u001b[0mretain_graph\u001b[0m\u001b[0;34m,\u001b[0m\u001b[0;34m\u001b[0m\u001b[0;34m\u001b[0m\u001b[0m\n\u001b[1;32m    220\u001b[0m                 create_graph=create_graph)\n\u001b[0;32m--> 221\u001b[0;31m         \u001b[0mtorch\u001b[0m\u001b[0;34m.\u001b[0m\u001b[0mautograd\u001b[0m\u001b[0;34m.\u001b[0m\u001b[0mbackward\u001b[0m\u001b[0;34m(\u001b[0m\u001b[0mself\u001b[0m\u001b[0;34m,\u001b[0m \u001b[0mgradient\u001b[0m\u001b[0;34m,\u001b[0m \u001b[0mretain_graph\u001b[0m\u001b[0;34m,\u001b[0m \u001b[0mcreate_graph\u001b[0m\u001b[0;34m)\u001b[0m\u001b[0;34m\u001b[0m\u001b[0;34m\u001b[0m\u001b[0m\n\u001b[0m\u001b[1;32m    222\u001b[0m \u001b[0;34m\u001b[0m\u001b[0m\n\u001b[1;32m    223\u001b[0m     \u001b[0;32mdef\u001b[0m \u001b[0mregister_hook\u001b[0m\u001b[0;34m(\u001b[0m\u001b[0mself\u001b[0m\u001b[0;34m,\u001b[0m \u001b[0mhook\u001b[0m\u001b[0;34m)\u001b[0m\u001b[0;34m:\u001b[0m\u001b[0;34m\u001b[0m\u001b[0;34m\u001b[0m\u001b[0m\n",
      "\u001b[0;32m~/.local/lib/python3.8/site-packages/torch/autograd/__init__.py\u001b[0m in \u001b[0;36mbackward\u001b[0;34m(tensors, grad_tensors, retain_graph, create_graph, grad_variables)\u001b[0m\n\u001b[1;32m    128\u001b[0m         \u001b[0mretain_graph\u001b[0m \u001b[0;34m=\u001b[0m \u001b[0mcreate_graph\u001b[0m\u001b[0;34m\u001b[0m\u001b[0;34m\u001b[0m\u001b[0m\n\u001b[1;32m    129\u001b[0m \u001b[0;34m\u001b[0m\u001b[0m\n\u001b[0;32m--> 130\u001b[0;31m     Variable._execution_engine.run_backward(\n\u001b[0m\u001b[1;32m    131\u001b[0m         \u001b[0mtensors\u001b[0m\u001b[0;34m,\u001b[0m \u001b[0mgrad_tensors_\u001b[0m\u001b[0;34m,\u001b[0m \u001b[0mretain_graph\u001b[0m\u001b[0;34m,\u001b[0m \u001b[0mcreate_graph\u001b[0m\u001b[0;34m,\u001b[0m\u001b[0;34m\u001b[0m\u001b[0;34m\u001b[0m\u001b[0m\n\u001b[1;32m    132\u001b[0m         allow_unreachable=True)  # allow_unreachable flag\n",
      "\u001b[0;31mKeyboardInterrupt\u001b[0m: "
     ]
    }
   ],
   "source": [
    "for epoch_index in range(1000):\n",
    "    optimizer.zero_grad()\n",
    "\n",
    "    y_pred = sine_net.forward(x_train)\n",
    "    #print(y_pred)\n",
    "#     for i in range(len(y_pred)) :\n",
    "#         print(\"pred: \" + str(y_pred[i]))\n",
    "#         print(\"real: \" + str(y_train[i]))\n",
    "    loss_val = loss(y_pred, y_train)\n",
    "    print(loss_val)\n",
    "    loss_val.backward()\n",
    "    #print(sine_net.parameters())\n",
    "    optimizer.step()\n",
    "    \n",
    "predict(sine_net, x_val, y_val)"
   ]
  },
  {
   "cell_type": "code",
   "execution_count": null,
   "metadata": {},
   "outputs": [],
   "source": []
  },
  {
   "cell_type": "code",
   "execution_count": null,
   "metadata": {},
   "outputs": [],
   "source": []
  },
  {
   "cell_type": "code",
   "execution_count": null,
   "metadata": {},
   "outputs": [],
   "source": []
  }
 ],
 "metadata": {
  "kernelspec": {
   "display_name": "Python 3",
   "language": "python",
   "name": "python3"
  },
  "language_info": {
   "codemirror_mode": {
    "name": "ipython",
    "version": 3
   },
   "file_extension": ".py",
   "mimetype": "text/x-python",
   "name": "python",
   "nbconvert_exporter": "python",
   "pygments_lexer": "ipython3",
   "version": "3.8.5"
  }
 },
 "nbformat": 4,
 "nbformat_minor": 4
}
