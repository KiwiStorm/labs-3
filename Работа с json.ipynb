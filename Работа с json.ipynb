{
 "cells": [
  {
   "cell_type": "code",
   "execution_count": 15,
   "metadata": {},
   "outputs": [],
   "source": [
    "import json\n",
    "import csv\n",
    "\n",
    "with open('/home/kevin/Документы/Python_stuff/sales.json') as f:\n",
    "  data = json.load(f)\n",
    "\n",
    "#print(data)\n",
    "\n",
    "csv_data = [[\"item\", \"country\", \"year\", \"sales\"]]\n",
    "\n",
    "for item in data :\n",
    "    for country in item['sales_by_country'].keys() : \n",
    "        for year in item['sales_by_country'][country] :\n",
    "             csv_data.append([item.get(\"item\"),country,year,item['sales_by_country'][country].get(year)])\n",
    "        \n",
    "with open('/home/kevin/Документы/Python_stuff/data_new.csv', 'w') as ff:\n",
    "    writer = csv.writer(ff)\n",
    "    for row in csv_data:\n",
    "        writer.writerow(row)        \n",
    "        "
   ]
  }
 ],
 "metadata": {
  "kernelspec": {
   "display_name": "Python 3",
   "language": "python",
   "name": "python3"
  },
  "language_info": {
   "codemirror_mode": {
    "name": "ipython",
    "version": 3
   },
   "file_extension": ".py",
   "mimetype": "text/x-python",
   "name": "python",
   "nbconvert_exporter": "python",
   "pygments_lexer": "ipython3",
   "version": "3.8.5"
  }
 },
 "nbformat": 4,
 "nbformat_minor": 4
}
