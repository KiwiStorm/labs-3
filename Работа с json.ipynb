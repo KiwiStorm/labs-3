{
 "cells": [
  {
   "cell_type": "code",
   "execution_count": 56,
   "metadata": {},
   "outputs": [],
   "source": [
    "import json\n",
    "import csv\n",
    "\n",
    "with open('/home/kevin/Документы/Python_stuff/sales.json') as f:\n",
    "  data = json.load(f)\n",
    "\n",
    "#print(data)\n",
    "\n",
    "csv_data = [[\"item\", \"country\", \"year\", \"sales\"]]\n",
    "\n",
    "for p1 in data:\n",
    "    for p2 in p1[\"sales_by_country\"] :\n",
    "        for p3 in p1[\"sales_by_country\"][p2]:\n",
    "            csv_data.append([p1[\"item\"],p2,p3,p1[\"sales_by_country\"][p2][p3]])\n",
    "#csv_data          \n",
    "        \n",
    "        "
   ]
  },
  {
   "cell_type": "code",
   "execution_count": 57,
   "metadata": {},
   "outputs": [],
   "source": [
    "with open('/home/kevin/Документы/Python_stuff/data_new.csv', 'w') as ff:\n",
    "    writer = csv.writer(ff)\n",
    "    for row in csv_data:\n",
    "        writer.writerow(row)"
   ]
  },
  {
   "cell_type": "code",
   "execution_count": null,
   "metadata": {},
   "outputs": [],
   "source": []
  }
 ],
 "metadata": {
  "kernelspec": {
   "display_name": "Python 3",
   "language": "python",
   "name": "python3"
  },
  "language_info": {
   "codemirror_mode": {
    "name": "ipython",
    "version": 3
   },
   "file_extension": ".py",
   "mimetype": "text/x-python",
   "name": "python",
   "nbconvert_exporter": "python",
   "pygments_lexer": "ipython3",
   "version": "3.8.2"
  }
 },
 "nbformat": 4,
 "nbformat_minor": 4
}
